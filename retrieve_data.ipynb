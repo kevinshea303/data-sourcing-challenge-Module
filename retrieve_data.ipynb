{
 "cells": [
  {
   "cell_type": "markdown",
   "metadata": {},
   "source": [
    "### Import Required Libraries and Set Up Environment Variables"
   ]
  },
  {
   "cell_type": "code",
   "execution_count": 1,
   "metadata": {},
   "outputs": [],
   "source": [
    "# Dependencies\n",
    "import requests\n",
    "import time\n",
    "from dotenv import load_dotenv\n",
    "import os\n",
    "import pandas as pd\n",
    "import json\n",
    "import os\n",
    "from datetime import datetime\n",
    "## Load the NASA_API_KEY from the env file\n",
    "load_dotenv()\n",
    "NASA_API_KEY = os.getenv('NASA_API_KEY')"
   ]
  },
  {
   "cell_type": "markdown",
   "metadata": {},
   "source": [
    "### CME Data"
   ]
  },
  {
   "cell_type": "code",
   "execution_count": 2,
   "metadata": {},
   "outputs": [],
   "source": [
    "# Set the base URL to NASA's DONKI API:\n",
    "base_url = \"https://api.nasa.gov/DONKI/\"\n",
    "\n",
    "# Set the specifier for CMEs:\n",
    "CME = \"CME\"\n",
    "\n",
    "# Search for CMEs published between a begin and end date\n",
    "startDate = \"2013-05-01\"\n",
    "endDate   = \"2024-05-01\"\n",
    "\n",
    "# Build URL for CME\n",
    "url = 'https://api.nasa.gov/DONKI/CME?startDate=yyyy-MM-dd&endDate=yyyy-MM-dd&api_key=uwMpN9EDjV91cQ5GdxjLpMsh0tRzr3OHieQhxtfa'"
   ]
  },
  {
   "cell_type": "code",
   "execution_count": 3,
   "metadata": {},
   "outputs": [
    {
     "name": "stdout",
     "output_type": "stream",
     "text": [
      "Request successful!\n"
     ]
    }
   ],
   "source": [
    "# Make a \"GET\" request for the CME URL and store it in a variable named cme_response\n",
    "cme_response = requests.get(url)\n",
    "if cme_response.status_code == 200:\n",
    "    print(\"Request successful!\")\n",
    "else:\n",
    "    print(f\"Request failed with status code {cme_response.status_code}\")"
   ]
  },
  {
   "cell_type": "code",
   "execution_count": 4,
   "metadata": {},
   "outputs": [],
   "source": [
    "# Convert the response variable to json and store it as a variable named cme_json\n",
    "cme_json = cme_response.json()"
   ]
  },
  {
   "cell_type": "code",
   "execution_count": 5,
   "metadata": {
    "scrolled": true
   },
   "outputs": [
    {
     "name": "stdout",
     "output_type": "stream",
     "text": [
      "{\n",
      "    \"activityID\": \"2024-12-31T00:12:00-CME-001\",\n",
      "    \"catalog\": \"M2M_CATALOG\",\n",
      "    \"startTime\": \"2024-12-31T00:12Z\",\n",
      "    \"instruments\": [\n",
      "        {\n",
      "            \"displayName\": \"SOHO: LASCO/C2\"\n",
      "        },\n",
      "        {\n",
      "            \"displayName\": \"SOHO: LASCO/C3\"\n",
      "        }\n",
      "    ],\n",
      "    \"sourceLocation\": \"\",\n",
      "    \"activeRegionNum\": null,\n",
      "    \"note\": \"CME first seen to the WNW in SOHO LASCO C2 starting at 2024-12-31T00:12Z. Also visible to the WNW in SOHO LASCO C3. This CME might be very faintly visible STEREO A COR2 for two frames, but it is not definitively this CME. A possible source candidate is some minor brightening and activity from AR 3936 starting about 21:48Z visible in all GOES SUVI wavelengths, but measurement does not closely match this source.\",\n",
      "    \"submissionTime\": \"2024-12-31T19:41Z\",\n",
      "    \"versionId\": 1,\n",
      "    \"link\": \"https://webtools.ccmc.gsfc.nasa.gov/DONKI/view/CME/36149/-1\",\n",
      "    \"cmeAnalyses\": [\n",
      "        {\n",
      "            \"isMostAccurate\": true,\n",
      "            \"time21_5\": \"2024-12-31T10:42Z\",\n",
      "            \"latitude\": 7.0,\n",
      "            \"longitude\": null,\n",
      "            \"halfAngle\": 15.0,\n",
      "            \"speed\": 357.0,\n",
      "            \"type\": \"S\",\n",
      "            \"featureCode\": \"LE\",\n",
      "            \"imageType\": \"running difference\",\n",
      "            \"measurementTechnique\": \"Plane-of-sky\",\n",
      "            \"note\": \"Plane-of-sky measurement made with running difference imagery from SOHO LASCO C2/C3 using SWPC_CAT.\",\n",
      "            \"levelOfData\": 0,\n",
      "            \"tilt\": null,\n",
      "            \"minorHalfWidth\": null,\n",
      "            \"speedMeasuredAtHeight\": null,\n",
      "            \"submissionTime\": \"2024-12-31T19:42Z\",\n",
      "            \"link\": \"https://webtools.ccmc.gsfc.nasa.gov/DONKI/view/CMEAnalysis/36150/-1\",\n",
      "            \"enlilList\": null\n",
      "        }\n",
      "    ],\n",
      "    \"linkedEvents\": null\n",
      "}\n"
     ]
    }
   ],
   "source": [
    "# Preview the first result in JSON format\n",
    "# Use json.dumps with argument indent=4 to format data\n",
    "formatted_json = json.dumps(cme_json[0], indent=4)\n",
    "print(formatted_json)"
   ]
  },
  {
   "cell_type": "code",
   "execution_count": 6,
   "metadata": {},
   "outputs": [
    {
     "name": "stdout",
     "output_type": "stream",
     "text": [
      "                    activityID          startTime  \\\n",
      "0  2024-12-31T00:12:00-CME-001  2024-12-31T00:12Z   \n",
      "1  2024-12-31T13:37:00-CME-001  2024-12-31T13:37Z   \n",
      "2  2024-12-31T14:12:00-CME-001  2024-12-31T14:12Z   \n",
      "3  2024-12-31T16:48:00-CME-001  2024-12-31T16:48Z   \n",
      "4  2025-01-01T02:24:00-CME-001  2025-01-01T02:24Z   \n",
      "\n",
      "                                        linkedEvents  \n",
      "0                                               None  \n",
      "1                                               None  \n",
      "2                                               None  \n",
      "3                                               None  \n",
      "4  [{'activityID': '2025-01-03T23:33:00-IPS-001'}...  \n"
     ]
    }
   ],
   "source": [
    "# Convert cme_json to a Pandas DataFrame \n",
    "cme_df = pd.DataFrame(cme_json)\n",
    "# Keep only the columns: activityID, startTime, linkedEvents\n",
    "cme_df_filtered = cme_df[['activityID', 'startTime', 'linkedEvents']]\n",
    "print(cme_df_filtered.head())"
   ]
  },
  {
   "cell_type": "code",
   "execution_count": 7,
   "metadata": {},
   "outputs": [
    {
     "name": "stdout",
     "output_type": "stream",
     "text": [
      "                     activityID          startTime  \\\n",
      "4   2025-01-01T02:24:00-CME-001  2025-01-01T02:24Z   \n",
      "12  2025-01-02T15:12:00-CME-001  2025-01-02T15:12Z   \n",
      "13  2025-01-02T15:24:00-CME-001  2025-01-02T15:24Z   \n",
      "14  2025-01-02T19:12:00-CME-001  2025-01-02T19:12Z   \n",
      "16  2025-01-03T12:12:00-CME-001  2025-01-03T12:12Z   \n",
      "\n",
      "                                         linkedEvents  \n",
      "4   [{'activityID': '2025-01-03T23:33:00-IPS-001'}...  \n",
      "12    [{'activityID': '2025-01-05T22:34:00-IPS-001'}]  \n",
      "13    [{'activityID': '2025-01-05T22:34:00-IPS-001'}]  \n",
      "14  [{'activityID': '2025-01-02T17:18:00-FLR-001'}...  \n",
      "16    [{'activityID': '2025-01-03T11:29:00-FLR-001'}]  \n"
     ]
    }
   ],
   "source": [
    "# Notice that the linkedEvents column allows us to identify the corresponding GST\n",
    "# Remove rows with missing 'linkedEvents' since we won't be able to assign these to GSTs\n",
    "cme_df_filtered = cme_df_filtered.dropna(subset=['linkedEvents'])\n",
    "print(cme_df_filtered.head())"
   ]
  },
  {
   "cell_type": "code",
   "execution_count": 8,
   "metadata": {},
   "outputs": [
    {
     "ename": "TypeError",
     "evalue": "unhashable type: 'dict'",
     "output_type": "error",
     "traceback": [
      "\u001b[1;31m---------------------------------------------------------------------------\u001b[0m",
      "\u001b[1;31mTypeError\u001b[0m                                 Traceback (most recent call last)",
      "Cell \u001b[1;32mIn[8], line 17\u001b[0m\n\u001b[0;32m     10\u001b[0m \u001b[38;5;28;01mfor\u001b[39;00m idx, row \u001b[38;5;129;01min\u001b[39;00m cme_df_filtered\u001b[38;5;241m.\u001b[39miterrows():\n\u001b[0;32m     11\u001b[0m     \u001b[38;5;66;03m# Iterate over each dictionary in the list\u001b[39;00m\n\u001b[0;32m     12\u001b[0m     \u001b[38;5;28;01mfor\u001b[39;00m event \u001b[38;5;129;01min\u001b[39;00m row[\u001b[38;5;124m'\u001b[39m\u001b[38;5;124mlinkedEvents\u001b[39m\u001b[38;5;124m'\u001b[39m]:\n\u001b[0;32m     13\u001b[0m         \u001b[38;5;66;03m# Append a new dictionary to the expanded_rows list for each dictionary item and corresponding 'activityID' and 'startTime' value\u001b[39;00m\n\u001b[0;32m     14\u001b[0m       expanded_rows\u001b[38;5;241m.\u001b[39mappend({\n\u001b[0;32m     15\u001b[0m             \u001b[38;5;124m'\u001b[39m\u001b[38;5;124mactivityID\u001b[39m\u001b[38;5;124m'\u001b[39m: row[\u001b[38;5;124m'\u001b[39m\u001b[38;5;124mactivityID\u001b[39m\u001b[38;5;124m'\u001b[39m],\n\u001b[0;32m     16\u001b[0m             \u001b[38;5;124m'\u001b[39m\u001b[38;5;124mstartTime\u001b[39m\u001b[38;5;124m'\u001b[39m: row[\u001b[38;5;124m'\u001b[39m\u001b[38;5;124mstartTime\u001b[39m\u001b[38;5;124m'\u001b[39m],\n\u001b[1;32m---> 17\u001b[0m             \u001b[38;5;124m'\u001b[39m\u001b[38;5;124mlinkedEvent\u001b[39m\u001b[38;5;124m'\u001b[39m: \u001b[43mevent\u001b[49m\u001b[43m[\u001b[49m\u001b[43m{\u001b[49m\u001b[38;5;124;43m'\u001b[39;49m\u001b[38;5;124;43mactivityID\u001b[39;49m\u001b[38;5;124;43m'\u001b[39;49m\u001b[43m:\u001b[49m\u001b[43m \u001b[49m\u001b[38;5;124;43m'\u001b[39;49m\u001b[38;5;124;43m2013-05-04T04:52:00-IPS-001\u001b[39;49m\u001b[38;5;124;43m'\u001b[39;49m\u001b[43m}\u001b[49m\u001b[43m]\u001b[49m\n\u001b[0;32m     18\u001b[0m       })\n\u001b[0;32m     19\u001b[0m \u001b[38;5;66;03m# Create a new DataFrame from the expanded rows\u001b[39;00m\n\u001b[0;32m     20\u001b[0m expanded_df \u001b[38;5;241m=\u001b[39m pd\u001b[38;5;241m.\u001b[39mDataFrame(expanded_rows)\n",
      "\u001b[1;31mTypeError\u001b[0m: unhashable type: 'dict'"
     ]
    }
   ],
   "source": [
    "# Notice that the linkedEvents sometimes contains multiple events per row\n",
    "# Write a nested for loop that iterates first over each row in the cme DataFrame (using the index)\n",
    "# and then iterates over the values in 'linkedEvents' \n",
    "# and adds the elements individually to a list of dictionaries where each row is one element \n",
    "\n",
    "# Initialize an empty list to store the expanded rows\n",
    "expanded_rows = []\n",
    "\n",
    "# Iterate over each index in the DataFrame\n",
    "for idx, row in cme_df_filtered.iterrows():\n",
    "    # Iterate over each dictionary in the list\n",
    "    for event in row['linkedEvents']:\n",
    "        # Append a new dictionary to the expanded_rows list for each dictionary item and corresponding 'activityID' and 'startTime' value\n",
    "      expanded_rows.append({\n",
    "            'activityID': row['activityID'],\n",
    "            'startTime': row['startTime'],\n",
    "            'linkedEvent': event[{'activityID': '2013-05-04T04:52:00-IPS-001'}]\n",
    "      })\n",
    "# Create a new DataFrame from the expanded rows\n",
    "expanded_df = pd.DataFrame(expanded_rows)"
   ]
  },
  {
   "cell_type": "code",
   "execution_count": 22,
   "metadata": {},
   "outputs": [
    {
     "ename": "IndentationError",
     "evalue": "unindent does not match any outer indentation level (<string>, line 10)",
     "output_type": "error",
     "traceback": [
      "\u001b[1;36m  File \u001b[1;32m<string>:10\u001b[1;36m\u001b[0m\n\u001b[1;33m    return activityID\u001b[0m\n\u001b[1;37m                     ^\u001b[0m\n\u001b[1;31mIndentationError\u001b[0m\u001b[1;31m:\u001b[0m unindent does not match any outer indentation level\n"
     ]
    }
   ],
   "source": [
    "# Create a function called extract_activityID_from_dict that takes a dict as input such as in linkedEvents\n",
    "# and verify below that it works as expected using one row from linkedEvents as an example\n",
    "# Be sure to use a try and except block to handle errors\n",
    "def extract_activityID_from_dict(linked_event_dict):\n",
    " try:\n",
    "    activityID = linked_event_dict.get('activityID', None)\n",
    "     if activityID is None:\n",
    "            raise ValueError(\"activityID not found in linked event\")\n",
    "        \n",
    "        return activityID\n",
    "except Exception as e:\n",
    "        print(f\"Error: {e}\")\n",
    "        print(\"Problematic linked event:\", linked_event_dict)\n",
    "        return None\n",
    "\n",
    "        # Log the error or print it for debugging\n",
    "\n",
    "\n"
   ]
  },
  {
   "cell_type": "code",
   "execution_count": 10,
   "metadata": {},
   "outputs": [
    {
     "data": {
      "text/html": [
       "<div>\n",
       "<style scoped>\n",
       "    .dataframe tbody tr th:only-of-type {\n",
       "        vertical-align: middle;\n",
       "    }\n",
       "\n",
       "    .dataframe tbody tr th {\n",
       "        vertical-align: top;\n",
       "    }\n",
       "\n",
       "    .dataframe thead th {\n",
       "        text-align: right;\n",
       "    }\n",
       "</style>\n",
       "<table border=\"1\" class=\"dataframe\">\n",
       "  <thead>\n",
       "    <tr style=\"text-align: right;\">\n",
       "      <th></th>\n",
       "      <th>activityID</th>\n",
       "      <th>startTime</th>\n",
       "      <th>linkedEvents</th>\n",
       "      <th>GST_ActivityID</th>\n",
       "    </tr>\n",
       "  </thead>\n",
       "  <tbody>\n",
       "    <tr>\n",
       "      <th>0</th>\n",
       "      <td>2013-05-01T03:12:00-CME-001</td>\n",
       "      <td>2013-05-01T03:12Z</td>\n",
       "      <td>{'activityID': '2013-05-04T04:52:00-IPS-001'}</td>\n",
       "      <td>2013-05-04T04:52:00-IPS-001</td>\n",
       "    </tr>\n",
       "    <tr>\n",
       "      <th>1</th>\n",
       "      <td>2013-05-03T22:36:00-CME-001</td>\n",
       "      <td>2013-05-03T22:36Z</td>\n",
       "      <td>{'activityID': '2013-05-07T04:37:00-IPS-001'}</td>\n",
       "      <td>2013-05-07T04:37:00-IPS-001</td>\n",
       "    </tr>\n",
       "    <tr>\n",
       "      <th>2</th>\n",
       "      <td>2013-05-09T19:29:00-CME-001</td>\n",
       "      <td>2013-05-09T19:29Z</td>\n",
       "      <td>{'activityID': '2013-05-12T23:30:00-IPS-001'}</td>\n",
       "      <td>2013-05-12T23:30:00-IPS-001</td>\n",
       "    </tr>\n",
       "    <tr>\n",
       "      <th>3</th>\n",
       "      <td>2013-05-13T02:54:00-CME-001</td>\n",
       "      <td>2013-05-13T02:54Z</td>\n",
       "      <td>{'activityID': '2013-05-13T01:53:00-FLR-001'}</td>\n",
       "      <td>2013-05-13T01:53:00-FLR-001</td>\n",
       "    </tr>\n",
       "    <tr>\n",
       "      <th>4</th>\n",
       "      <td>2013-05-13T02:54:00-CME-001</td>\n",
       "      <td>2013-05-13T02:54Z</td>\n",
       "      <td>{'activityID': '2013-05-13T04:12:00-SEP-001'}</td>\n",
       "      <td>2013-05-13T04:12:00-SEP-001</td>\n",
       "    </tr>\n",
       "  </tbody>\n",
       "</table>\n",
       "</div>"
      ],
      "text/plain": [
       "                    activityID          startTime  \\\n",
       "0  2013-05-01T03:12:00-CME-001  2013-05-01T03:12Z   \n",
       "1  2013-05-03T22:36:00-CME-001  2013-05-03T22:36Z   \n",
       "2  2013-05-09T19:29:00-CME-001  2013-05-09T19:29Z   \n",
       "3  2013-05-13T02:54:00-CME-001  2013-05-13T02:54Z   \n",
       "4  2013-05-13T02:54:00-CME-001  2013-05-13T02:54Z   \n",
       "\n",
       "                                    linkedEvents               GST_ActivityID  \n",
       "0  {'activityID': '2013-05-04T04:52:00-IPS-001'}  2013-05-04T04:52:00-IPS-001  \n",
       "1  {'activityID': '2013-05-07T04:37:00-IPS-001'}  2013-05-07T04:37:00-IPS-001  \n",
       "2  {'activityID': '2013-05-12T23:30:00-IPS-001'}  2013-05-12T23:30:00-IPS-001  \n",
       "3  {'activityID': '2013-05-13T01:53:00-FLR-001'}  2013-05-13T01:53:00-FLR-001  \n",
       "4  {'activityID': '2013-05-13T04:12:00-SEP-001'}  2013-05-13T04:12:00-SEP-001  "
      ]
     },
     "execution_count": 10,
     "metadata": {},
     "output_type": "execute_result"
    }
   ],
   "source": [
    "# Apply this function to each row in the 'linkedEvents' column (you can use apply() and a lambda function)\n",
    "# and create a new column called 'GST_ActivityID' using loc indexer:\n",
    "cme_df_filtered['GST_ActivityID'] = cme_df_filtered['linkedEvents'].apply(\n",
    "    lambda linked_events: [extract_activityID_from_dict(event) for event in linked_events] if isinstance(linked_events, list) else None\n",
    ")"
   ]
  },
  {
   "cell_type": "code",
   "execution_count": 11,
   "metadata": {},
   "outputs": [],
   "source": [
    "# Remove rows with missing GST_ActivityID, since we can't assign them to GSTs:\n",
    "cme_df_filtered = cme_df_filtered.dropna(subset=['GST_ActivityID'])\n",
    "print(cme_df_filtered[['activityID', 'linkedEvents', 'GST_ActivityID']].head())"
   ]
  },
  {
   "cell_type": "code",
   "execution_count": 12,
   "metadata": {},
   "outputs": [
    {
     "name": "stdout",
     "output_type": "stream",
     "text": [
      "<class 'pandas.core.frame.DataFrame'>\n",
      "RangeIndex: 1807 entries, 0 to 1806\n",
      "Data columns (total 4 columns):\n",
      " #   Column          Non-Null Count  Dtype \n",
      "---  ------          --------------  ----- \n",
      " 0   activityID      1807 non-null   object\n",
      " 1   startTime       1807 non-null   object\n",
      " 2   linkedEvents    1807 non-null   object\n",
      " 3   GST_ActivityID  1807 non-null   object\n",
      "dtypes: object(4)\n",
      "memory usage: 56.6+ KB\n"
     ]
    }
   ],
   "source": [
    "# print out the datatype of each column in this DataFrame:\n",
    "print(cme_df_filtered.dtypes)"
   ]
  },
  {
   "cell_type": "code",
   "execution_count": 13,
   "metadata": {},
   "outputs": [
    {
     "name": "stdout",
     "output_type": "stream",
     "text": [
      "<class 'pandas.core.frame.DataFrame'>\n",
      "RangeIndex: 1807 entries, 0 to 1806\n",
      "Data columns (total 3 columns):\n",
      " #   Column          Non-Null Count  Dtype              \n",
      "---  ------          --------------  -----              \n",
      " 0   cmeID           1807 non-null   object             \n",
      " 1   startTime_CME   1807 non-null   datetime64[ns, UTC]\n",
      " 2   GST_ActivityID  1807 non-null   string             \n",
      "dtypes: datetime64[ns, UTC](1), object(1), string(1)\n",
      "memory usage: 42.5+ KB\n"
     ]
    }
   ],
   "source": [
    "# Convert the 'GST_ActivityID' column to string format \n",
    "cme_df_filtered['GST_ActivityID'] = cme_df_filtered['GST_ActivityID'].astype(str)\n",
    "# Convert startTime to datetime format  \n",
    "cme_df_filtered['startTime'] = pd.to_datetime(cme_df_filtered['startTime'], errors='coerce')\n",
    "# Rename startTime to startTime_CME and activityID to cmeID\n",
    "cme_df_filtered = cme_df_filtered.rename(columns={'startTime': 'startTime_CME', 'activityID': 'cmeID'})\n",
    "# Drop linkedEvents\n",
    "cme_df_filtered = cme_df_filtered.drop(columns=['linkedEvents'])\n",
    "# Verify that all steps were executed correctly\n",
    "print(cme_df_filtered.dtypes)  # Check the datatypes of the columns\n",
    "print(cme_df_filtered.head())"
   ]
  },
  {
   "cell_type": "code",
   "execution_count": 14,
   "metadata": {},
   "outputs": [
    {
     "data": {
      "text/html": [
       "<div>\n",
       "<style scoped>\n",
       "    .dataframe tbody tr th:only-of-type {\n",
       "        vertical-align: middle;\n",
       "    }\n",
       "\n",
       "    .dataframe tbody tr th {\n",
       "        vertical-align: top;\n",
       "    }\n",
       "\n",
       "    .dataframe thead th {\n",
       "        text-align: right;\n",
       "    }\n",
       "</style>\n",
       "<table border=\"1\" class=\"dataframe\">\n",
       "  <thead>\n",
       "    <tr style=\"text-align: right;\">\n",
       "      <th></th>\n",
       "      <th>cmeID</th>\n",
       "      <th>startTime_CME</th>\n",
       "      <th>GST_ActivityID</th>\n",
       "    </tr>\n",
       "  </thead>\n",
       "  <tbody>\n",
       "    <tr>\n",
       "      <th>21</th>\n",
       "      <td>2013-06-02T20:24:00-CME-001</td>\n",
       "      <td>2013-06-02 20:24:00+00:00</td>\n",
       "      <td>2013-06-07T03:00:00-GST-001</td>\n",
       "    </tr>\n",
       "    <tr>\n",
       "      <th>48</th>\n",
       "      <td>2013-09-29T22:40:00-CME-001</td>\n",
       "      <td>2013-09-29 22:40:00+00:00</td>\n",
       "      <td>2013-10-02T03:00:00-GST-001</td>\n",
       "    </tr>\n",
       "    <tr>\n",
       "      <th>90</th>\n",
       "      <td>2013-12-04T23:12:00-CME-001</td>\n",
       "      <td>2013-12-04 23:12:00+00:00</td>\n",
       "      <td>2013-12-08T00:00:00-GST-001</td>\n",
       "    </tr>\n",
       "    <tr>\n",
       "      <th>148</th>\n",
       "      <td>2014-02-16T14:15:00-CME-001</td>\n",
       "      <td>2014-02-16 14:15:00+00:00</td>\n",
       "      <td>2014-02-19T03:00:00-GST-001</td>\n",
       "    </tr>\n",
       "    <tr>\n",
       "      <th>151</th>\n",
       "      <td>2014-02-18T01:25:00-CME-001</td>\n",
       "      <td>2014-02-18 01:25:00+00:00</td>\n",
       "      <td>2014-02-20T03:00:00-GST-001</td>\n",
       "    </tr>\n",
       "  </tbody>\n",
       "</table>\n",
       "</div>"
      ],
      "text/plain": [
       "                           cmeID             startTime_CME  \\\n",
       "21   2013-06-02T20:24:00-CME-001 2013-06-02 20:24:00+00:00   \n",
       "48   2013-09-29T22:40:00-CME-001 2013-09-29 22:40:00+00:00   \n",
       "90   2013-12-04T23:12:00-CME-001 2013-12-04 23:12:00+00:00   \n",
       "148  2014-02-16T14:15:00-CME-001 2014-02-16 14:15:00+00:00   \n",
       "151  2014-02-18T01:25:00-CME-001 2014-02-18 01:25:00+00:00   \n",
       "\n",
       "                  GST_ActivityID  \n",
       "21   2013-06-07T03:00:00-GST-001  \n",
       "48   2013-10-02T03:00:00-GST-001  \n",
       "90   2013-12-08T00:00:00-GST-001  \n",
       "148  2014-02-19T03:00:00-GST-001  \n",
       "151  2014-02-20T03:00:00-GST-001  "
      ]
     },
     "execution_count": 14,
     "metadata": {},
     "output_type": "execute_result"
    }
   ],
   "source": [
    "# We are only interested in CMEs related to GSTs so keep only rows where the GST_ActivityID column contains 'GST'\n",
    "# use the method 'contains()' from the str library.  \n",
    "cme_df_filtered = cme_df_filtered[cme_df_filtered['GST_ActivityID'].str.contains('GST', na=False)]\n",
    "print(cme_df_filtered.head())"
   ]
  },
  {
   "cell_type": "markdown",
   "metadata": {},
   "source": [
    "### GST Data"
   ]
  },
  {
   "cell_type": "code",
   "execution_count": 9,
   "metadata": {},
   "outputs": [],
   "source": [
    "# Set the base URL to NASA's DONKI API:\n",
    "base_url = \"https://api.nasa.gov/DONKI/\"\n",
    "\n",
    "# Set the specifier for Geomagnetic Storms (GST):\n",
    "GST = \"GST\"\n",
    "\n",
    "# Search for GSTs between a begin and end date\n",
    "startDate = \"2013-05-01\"\n",
    "endDate   = \"2024-05-01\"\n",
    "\n",
    "# Build URL for GST\n",
    "gst_url = 'https://api.nasa.gov/DONKI/GST?startDate=yyyy-MM-dd&endDate=yyyy-MM-dd&api_key=uwMpN9EDjV91cQ5GdxjLpMsh0tRzr3OHieQhxtfa' "
   ]
  },
  {
   "cell_type": "code",
   "execution_count": 10,
   "metadata": {},
   "outputs": [
    {
     "name": "stdout",
     "output_type": "stream",
     "text": [
      "Status Code: 200\n"
     ]
    }
   ],
   "source": [
    "# Make a \"GET\" request for the GST URL and store it in a variable named gst_response\n",
    "gst_response = requests.get(gst_url)\n",
    "print(f\"Status Code: {gst_response.status_code}\")"
   ]
  },
  {
   "cell_type": "code",
   "execution_count": 11,
   "metadata": {},
   "outputs": [
    {
     "name": "stdout",
     "output_type": "stream",
     "text": [
      "{\n",
      "    \"gstID\": \"2025-01-01T09:00:00-GST-001\",\n",
      "    \"startTime\": \"2025-01-01T09:00Z\",\n",
      "    \"allKpIndex\": [\n",
      "        {\n",
      "            \"observedTime\": \"2025-01-01T12:00Z\",\n",
      "            \"kpIndex\": 6.33,\n",
      "            \"source\": \"NOAA\"\n",
      "        },\n",
      "        {\n",
      "            \"observedTime\": \"2025-01-01T15:00Z\",\n",
      "            \"kpIndex\": 6.67,\n",
      "            \"source\": \"NOAA\"\n",
      "        },\n",
      "        {\n",
      "            \"observedTime\": \"2025-01-01T18:00Z\",\n",
      "            \"kpIndex\": 8.0,\n",
      "            \"source\": \"NOAA\"\n",
      "        },\n",
      "        {\n",
      "            \"observedTime\": \"2025-01-01T21:00Z\",\n",
      "            \"kpIndex\": 6.67,\n",
      "            \"source\": \"NOAA\"\n",
      "        }\n",
      "    ],\n",
      "    \"link\": \"https://webtools.ccmc.gsfc.nasa.gov/DONKI/view/GST/36159/-1\",\n",
      "    \"linkedEvents\": [\n",
      "        {\n",
      "            \"activityID\": \"2024-12-29T01:23:00-CME-001\"\n",
      "        },\n",
      "        {\n",
      "            \"activityID\": \"2024-12-29T06:24:00-CME-001\"\n",
      "        },\n",
      "        {\n",
      "            \"activityID\": \"2024-12-31T15:44:00-IPS-001\"\n",
      "        },\n",
      "        {\n",
      "            \"activityID\": \"2025-01-01T05:45:00-MPC-001\"\n",
      "        }\n",
      "    ],\n",
      "    \"submissionTime\": \"2025-01-01T12:35Z\",\n",
      "    \"versionId\": 1\n",
      "}\n"
     ]
    }
   ],
   "source": [
    "# Convert the response variable to json and store it as a variable named gst_json\n",
    "gst_json = gst_response.json()\n",
    "# Preview the first result in JSON format\n",
    "# Use json.dumps with argument indent=4 to format data\n",
    "if gst_json:\n",
    "    print(json.dumps(gst_json[0], indent=4))\n",
    "else:\n",
    "    print(\"No data found.\")"
   ]
  },
  {
   "cell_type": "code",
   "execution_count": 16,
   "metadata": {},
   "outputs": [
    {
     "data": {
      "text/html": [
       "<div>\n",
       "<style scoped>\n",
       "    .dataframe tbody tr th:only-of-type {\n",
       "        vertical-align: middle;\n",
       "    }\n",
       "\n",
       "    .dataframe tbody tr th {\n",
       "        vertical-align: top;\n",
       "    }\n",
       "\n",
       "    .dataframe thead th {\n",
       "        text-align: right;\n",
       "    }\n",
       "</style>\n",
       "<table border=\"1\" class=\"dataframe\">\n",
       "  <thead>\n",
       "    <tr style=\"text-align: right;\">\n",
       "      <th></th>\n",
       "      <th>gstID</th>\n",
       "      <th>startTime</th>\n",
       "      <th>linkedEvents</th>\n",
       "    </tr>\n",
       "  </thead>\n",
       "  <tbody>\n",
       "    <tr>\n",
       "      <th>0</th>\n",
       "      <td>2025-01-01T09:00:00-GST-001</td>\n",
       "      <td>2025-01-01T09:00Z</td>\n",
       "      <td>[{'activityID': '2024-12-29T01:23:00-CME-001'}...</td>\n",
       "    </tr>\n",
       "  </tbody>\n",
       "</table>\n",
       "</div>"
      ],
      "text/plain": [
       "                         gstID          startTime  \\\n",
       "0  2025-01-01T09:00:00-GST-001  2025-01-01T09:00Z   \n",
       "\n",
       "                                        linkedEvents  \n",
       "0  [{'activityID': '2024-12-29T01:23:00-CME-001'}...  "
      ]
     },
     "execution_count": 16,
     "metadata": {},
     "output_type": "execute_result"
    }
   ],
   "source": [
    "# Convert gst_json to a Pandas DataFrame  \n",
    "gst_df = pd.DataFrame(gst_json)\n",
    "\n",
    "# Keep only the columns: activityID, startTime, linkedEvents\n",
    "gst_df = gst_df[['gstID', 'startTime', 'linkedEvents']]\n",
    "gst_df"
   ]
  },
  {
   "cell_type": "code",
   "execution_count": 17,
   "metadata": {},
   "outputs": [],
   "source": [
    "# Notice that the linkedEvents column allows us to identify the corresponding CME\n",
    "# Remove rows with missing 'linkedEvents' since we won't be able to assign these to CME\n",
    "gst_df = gst_df.dropna(subset=['linkedEvents'])"
   ]
  },
  {
   "cell_type": "code",
   "execution_count": 18,
   "metadata": {},
   "outputs": [],
   "source": [
    "# Notice that the linkedEvents sometimes contains multiple events per row\n",
    "# Use the explode method to ensure that each row is one element. Ensure to reset the index and drop missing values.\n",
    "gst_df = gst_df.explode('linkedEvents')\n",
    "gst_df = gst_df.reset_index(drop=True).dropna()"
   ]
  },
  {
   "cell_type": "code",
   "execution_count": 20,
   "metadata": {},
   "outputs": [
    {
     "name": "stdout",
     "output_type": "stream",
     "text": [
      "                         gstID          startTime  \\\n",
      "0  2025-01-01T09:00:00-GST-001  2025-01-01T09:00Z   \n",
      "1  2025-01-01T09:00:00-GST-001  2025-01-01T09:00Z   \n",
      "2  2025-01-01T09:00:00-GST-001  2025-01-01T09:00Z   \n",
      "3  2025-01-01T09:00:00-GST-001  2025-01-01T09:00Z   \n",
      "\n",
      "                                    linkedEvents               CME_ActivityID  \n",
      "0  {'activityID': '2024-12-29T01:23:00-CME-001'}  2024-12-29T01:23:00-CME-001  \n",
      "1  {'activityID': '2024-12-29T06:24:00-CME-001'}  2024-12-29T06:24:00-CME-001  \n",
      "2  {'activityID': '2024-12-31T15:44:00-IPS-001'}  2024-12-31T15:44:00-IPS-001  \n",
      "3  {'activityID': '2025-01-01T05:45:00-MPC-001'}  2025-01-01T05:45:00-MPC-001  \n"
     ]
    }
   ],
   "source": [
    "# Apply the extract_activityID_from_dict function to each row in the 'linkedEvents' column (you can use apply() and a lambda function)\n",
    "# and create a new column called 'CME_ActivityID' using loc indexer:\n",
    "def extract_activityID_from_dict(event):\n",
    "        return event.get('activityID', None)\n",
    "gst_df['CME_ActivityID'] = gst_df['linkedEvents'].apply(lambda x: extract_activityID_from_dict(x))\n",
    "    \n",
    "# Remove rows with missing CME_ActivityID, since we can't assign them to CMEs:\n",
    "gst_df = gst_df.dropna(subset=['CME_ActivityID'])\n",
    "print(gst_df.head())"
   ]
  },
  {
   "cell_type": "code",
   "execution_count": 22,
   "metadata": {},
   "outputs": [
    {
     "name": "stdout",
     "output_type": "stream",
     "text": [
      "<class 'pandas.core.frame.DataFrame'>\n",
      "RangeIndex: 217 entries, 0 to 216\n",
      "Data columns (total 3 columns):\n",
      " #   Column          Non-Null Count  Dtype              \n",
      "---  ------          --------------  -----              \n",
      " 0   gstID           217 non-null    string             \n",
      " 1   startTime_GST   217 non-null    datetime64[ns, UTC]\n",
      " 2   CME_ActivityID  217 non-null    string             \n",
      "dtypes: datetime64[ns, UTC](1), string(2)\n",
      "memory usage: 5.2 KB\n"
     ]
    }
   ],
   "source": [
    "# Convert the 'CME_ActivityID' column to string format \n",
    "\n",
    "# Convert the 'gstID' column to string format \n",
    "\n",
    "# Convert startTime to datetime format  \n",
    "\n",
    "# Rename startTime to startTime_GST \n",
    "\n",
    "# Drop linkedEvents\n",
    "\n",
    "# Verify that all steps were executed correctly\n"
   ]
  },
  {
   "cell_type": "code",
   "execution_count": 23,
   "metadata": {},
   "outputs": [
    {
     "data": {
      "text/html": [
       "<div>\n",
       "<style scoped>\n",
       "    .dataframe tbody tr th:only-of-type {\n",
       "        vertical-align: middle;\n",
       "    }\n",
       "\n",
       "    .dataframe tbody tr th {\n",
       "        vertical-align: top;\n",
       "    }\n",
       "\n",
       "    .dataframe thead th {\n",
       "        text-align: right;\n",
       "    }\n",
       "</style>\n",
       "<table border=\"1\" class=\"dataframe\">\n",
       "  <thead>\n",
       "    <tr style=\"text-align: right;\">\n",
       "      <th></th>\n",
       "      <th>gstID</th>\n",
       "      <th>startTime_GST</th>\n",
       "      <th>CME_ActivityID</th>\n",
       "    </tr>\n",
       "  </thead>\n",
       "  <tbody>\n",
       "    <tr>\n",
       "      <th>1</th>\n",
       "      <td>2013-06-07T03:00:00-GST-001</td>\n",
       "      <td>2013-06-07 03:00:00+00:00</td>\n",
       "      <td>2013-06-02T20:24:00-CME-001</td>\n",
       "    </tr>\n",
       "    <tr>\n",
       "      <th>2</th>\n",
       "      <td>2013-10-02T03:00:00-GST-001</td>\n",
       "      <td>2013-10-02 03:00:00+00:00</td>\n",
       "      <td>2013-09-29T22:40:00-CME-001</td>\n",
       "    </tr>\n",
       "    <tr>\n",
       "      <th>5</th>\n",
       "      <td>2013-12-08T00:00:00-GST-001</td>\n",
       "      <td>2013-12-08 00:00:00+00:00</td>\n",
       "      <td>2013-12-04T23:12:00-CME-001</td>\n",
       "    </tr>\n",
       "    <tr>\n",
       "      <th>7</th>\n",
       "      <td>2014-02-19T03:00:00-GST-001</td>\n",
       "      <td>2014-02-19 03:00:00+00:00</td>\n",
       "      <td>2014-02-16T14:15:00-CME-001</td>\n",
       "    </tr>\n",
       "    <tr>\n",
       "      <th>9</th>\n",
       "      <td>2014-02-20T03:00:00-GST-001</td>\n",
       "      <td>2014-02-20 03:00:00+00:00</td>\n",
       "      <td>2014-02-18T01:25:00-CME-001</td>\n",
       "    </tr>\n",
       "  </tbody>\n",
       "</table>\n",
       "</div>"
      ],
      "text/plain": [
       "                         gstID             startTime_GST  \\\n",
       "1  2013-06-07T03:00:00-GST-001 2013-06-07 03:00:00+00:00   \n",
       "2  2013-10-02T03:00:00-GST-001 2013-10-02 03:00:00+00:00   \n",
       "5  2013-12-08T00:00:00-GST-001 2013-12-08 00:00:00+00:00   \n",
       "7  2014-02-19T03:00:00-GST-001 2014-02-19 03:00:00+00:00   \n",
       "9  2014-02-20T03:00:00-GST-001 2014-02-20 03:00:00+00:00   \n",
       "\n",
       "                CME_ActivityID  \n",
       "1  2013-06-02T20:24:00-CME-001  \n",
       "2  2013-09-29T22:40:00-CME-001  \n",
       "5  2013-12-04T23:12:00-CME-001  \n",
       "7  2014-02-16T14:15:00-CME-001  \n",
       "9  2014-02-18T01:25:00-CME-001  "
      ]
     },
     "execution_count": 23,
     "metadata": {},
     "output_type": "execute_result"
    }
   ],
   "source": [
    "# We are only interested in GSTs related to CMEs so keep only rows where the CME_ActivityID column contains 'CME'\n",
    "# use the method 'contains()' from the str library.  \n"
   ]
  },
  {
   "cell_type": "markdown",
   "metadata": {},
   "source": [
    "### Merge both datatsets"
   ]
  },
  {
   "cell_type": "code",
   "execution_count": 24,
   "metadata": {},
   "outputs": [
    {
     "data": {
      "text/html": [
       "<div>\n",
       "<style scoped>\n",
       "    .dataframe tbody tr th:only-of-type {\n",
       "        vertical-align: middle;\n",
       "    }\n",
       "\n",
       "    .dataframe tbody tr th {\n",
       "        vertical-align: top;\n",
       "    }\n",
       "\n",
       "    .dataframe thead th {\n",
       "        text-align: right;\n",
       "    }\n",
       "</style>\n",
       "<table border=\"1\" class=\"dataframe\">\n",
       "  <thead>\n",
       "    <tr style=\"text-align: right;\">\n",
       "      <th></th>\n",
       "      <th>gstID</th>\n",
       "      <th>startTime_GST</th>\n",
       "      <th>CME_ActivityID</th>\n",
       "      <th>cmeID</th>\n",
       "      <th>startTime_CME</th>\n",
       "      <th>GST_ActivityID</th>\n",
       "    </tr>\n",
       "  </thead>\n",
       "  <tbody>\n",
       "    <tr>\n",
       "      <th>0</th>\n",
       "      <td>2013-06-07T03:00:00-GST-001</td>\n",
       "      <td>2013-06-07 03:00:00+00:00</td>\n",
       "      <td>2013-06-02T20:24:00-CME-001</td>\n",
       "      <td>2013-06-02T20:24:00-CME-001</td>\n",
       "      <td>2013-06-02 20:24:00+00:00</td>\n",
       "      <td>2013-06-07T03:00:00-GST-001</td>\n",
       "    </tr>\n",
       "    <tr>\n",
       "      <th>1</th>\n",
       "      <td>2013-10-02T03:00:00-GST-001</td>\n",
       "      <td>2013-10-02 03:00:00+00:00</td>\n",
       "      <td>2013-09-29T22:40:00-CME-001</td>\n",
       "      <td>2013-09-29T22:40:00-CME-001</td>\n",
       "      <td>2013-09-29 22:40:00+00:00</td>\n",
       "      <td>2013-10-02T03:00:00-GST-001</td>\n",
       "    </tr>\n",
       "    <tr>\n",
       "      <th>2</th>\n",
       "      <td>2013-12-08T00:00:00-GST-001</td>\n",
       "      <td>2013-12-08 00:00:00+00:00</td>\n",
       "      <td>2013-12-04T23:12:00-CME-001</td>\n",
       "      <td>2013-12-04T23:12:00-CME-001</td>\n",
       "      <td>2013-12-04 23:12:00+00:00</td>\n",
       "      <td>2013-12-08T00:00:00-GST-001</td>\n",
       "    </tr>\n",
       "    <tr>\n",
       "      <th>3</th>\n",
       "      <td>2014-02-19T03:00:00-GST-001</td>\n",
       "      <td>2014-02-19 03:00:00+00:00</td>\n",
       "      <td>2014-02-16T14:15:00-CME-001</td>\n",
       "      <td>2014-02-16T14:15:00-CME-001</td>\n",
       "      <td>2014-02-16 14:15:00+00:00</td>\n",
       "      <td>2014-02-19T03:00:00-GST-001</td>\n",
       "    </tr>\n",
       "    <tr>\n",
       "      <th>4</th>\n",
       "      <td>2014-02-20T03:00:00-GST-001</td>\n",
       "      <td>2014-02-20 03:00:00+00:00</td>\n",
       "      <td>2014-02-18T01:25:00-CME-001</td>\n",
       "      <td>2014-02-18T01:25:00-CME-001</td>\n",
       "      <td>2014-02-18 01:25:00+00:00</td>\n",
       "      <td>2014-02-20T03:00:00-GST-001</td>\n",
       "    </tr>\n",
       "  </tbody>\n",
       "</table>\n",
       "</div>"
      ],
      "text/plain": [
       "                         gstID             startTime_GST  \\\n",
       "0  2013-06-07T03:00:00-GST-001 2013-06-07 03:00:00+00:00   \n",
       "1  2013-10-02T03:00:00-GST-001 2013-10-02 03:00:00+00:00   \n",
       "2  2013-12-08T00:00:00-GST-001 2013-12-08 00:00:00+00:00   \n",
       "3  2014-02-19T03:00:00-GST-001 2014-02-19 03:00:00+00:00   \n",
       "4  2014-02-20T03:00:00-GST-001 2014-02-20 03:00:00+00:00   \n",
       "\n",
       "                CME_ActivityID                        cmeID  \\\n",
       "0  2013-06-02T20:24:00-CME-001  2013-06-02T20:24:00-CME-001   \n",
       "1  2013-09-29T22:40:00-CME-001  2013-09-29T22:40:00-CME-001   \n",
       "2  2013-12-04T23:12:00-CME-001  2013-12-04T23:12:00-CME-001   \n",
       "3  2014-02-16T14:15:00-CME-001  2014-02-16T14:15:00-CME-001   \n",
       "4  2014-02-18T01:25:00-CME-001  2014-02-18T01:25:00-CME-001   \n",
       "\n",
       "              startTime_CME               GST_ActivityID  \n",
       "0 2013-06-02 20:24:00+00:00  2013-06-07T03:00:00-GST-001  \n",
       "1 2013-09-29 22:40:00+00:00  2013-10-02T03:00:00-GST-001  \n",
       "2 2013-12-04 23:12:00+00:00  2013-12-08T00:00:00-GST-001  \n",
       "3 2014-02-16 14:15:00+00:00  2014-02-19T03:00:00-GST-001  \n",
       "4 2014-02-18 01:25:00+00:00  2014-02-20T03:00:00-GST-001  "
      ]
     },
     "execution_count": 24,
     "metadata": {},
     "output_type": "execute_result"
    }
   ],
   "source": [
    "# Now merge both datasets using 'gstID' and 'CME_ActivityID' for gst and 'GST_ActivityID' and 'cmeID' for cme. Use the 'left_on' and 'right_on' specifiers.\n"
   ]
  },
  {
   "cell_type": "code",
   "execution_count": 25,
   "metadata": {},
   "outputs": [
    {
     "name": "stdout",
     "output_type": "stream",
     "text": [
      "<class 'pandas.core.frame.DataFrame'>\n",
      "RangeIndex: 67 entries, 0 to 66\n",
      "Data columns (total 6 columns):\n",
      " #   Column          Non-Null Count  Dtype              \n",
      "---  ------          --------------  -----              \n",
      " 0   gstID           67 non-null     string             \n",
      " 1   startTime_GST   67 non-null     datetime64[ns, UTC]\n",
      " 2   CME_ActivityID  67 non-null     object             \n",
      " 3   cmeID           67 non-null     object             \n",
      " 4   startTime_CME   67 non-null     datetime64[ns, UTC]\n",
      " 5   GST_ActivityID  67 non-null     string             \n",
      "dtypes: datetime64[ns, UTC](2), object(2), string(2)\n",
      "memory usage: 3.3+ KB\n"
     ]
    }
   ],
   "source": [
    "# Verify that the new DataFrame has the same number of rows as cme and gst\n"
   ]
  },
  {
   "cell_type": "markdown",
   "metadata": {},
   "source": [
    "### Computing the time it takes for a CME to cause a GST"
   ]
  },
  {
   "cell_type": "code",
   "execution_count": 26,
   "metadata": {},
   "outputs": [
    {
     "data": {
      "text/html": [
       "<div>\n",
       "<style scoped>\n",
       "    .dataframe tbody tr th:only-of-type {\n",
       "        vertical-align: middle;\n",
       "    }\n",
       "\n",
       "    .dataframe tbody tr th {\n",
       "        vertical-align: top;\n",
       "    }\n",
       "\n",
       "    .dataframe thead th {\n",
       "        text-align: right;\n",
       "    }\n",
       "</style>\n",
       "<table border=\"1\" class=\"dataframe\">\n",
       "  <thead>\n",
       "    <tr style=\"text-align: right;\">\n",
       "      <th></th>\n",
       "      <th>gstID</th>\n",
       "      <th>startTime_GST</th>\n",
       "      <th>CME_ActivityID</th>\n",
       "      <th>cmeID</th>\n",
       "      <th>startTime_CME</th>\n",
       "      <th>GST_ActivityID</th>\n",
       "      <th>timeDiff</th>\n",
       "    </tr>\n",
       "  </thead>\n",
       "  <tbody>\n",
       "    <tr>\n",
       "      <th>0</th>\n",
       "      <td>2013-06-07T03:00:00-GST-001</td>\n",
       "      <td>2013-06-07 03:00:00+00:00</td>\n",
       "      <td>2013-06-02T20:24:00-CME-001</td>\n",
       "      <td>2013-06-02T20:24:00-CME-001</td>\n",
       "      <td>2013-06-02 20:24:00+00:00</td>\n",
       "      <td>2013-06-07T03:00:00-GST-001</td>\n",
       "      <td>4 days 06:36:00</td>\n",
       "    </tr>\n",
       "    <tr>\n",
       "      <th>1</th>\n",
       "      <td>2013-10-02T03:00:00-GST-001</td>\n",
       "      <td>2013-10-02 03:00:00+00:00</td>\n",
       "      <td>2013-09-29T22:40:00-CME-001</td>\n",
       "      <td>2013-09-29T22:40:00-CME-001</td>\n",
       "      <td>2013-09-29 22:40:00+00:00</td>\n",
       "      <td>2013-10-02T03:00:00-GST-001</td>\n",
       "      <td>2 days 04:20:00</td>\n",
       "    </tr>\n",
       "    <tr>\n",
       "      <th>2</th>\n",
       "      <td>2013-12-08T00:00:00-GST-001</td>\n",
       "      <td>2013-12-08 00:00:00+00:00</td>\n",
       "      <td>2013-12-04T23:12:00-CME-001</td>\n",
       "      <td>2013-12-04T23:12:00-CME-001</td>\n",
       "      <td>2013-12-04 23:12:00+00:00</td>\n",
       "      <td>2013-12-08T00:00:00-GST-001</td>\n",
       "      <td>3 days 00:48:00</td>\n",
       "    </tr>\n",
       "    <tr>\n",
       "      <th>3</th>\n",
       "      <td>2014-02-19T03:00:00-GST-001</td>\n",
       "      <td>2014-02-19 03:00:00+00:00</td>\n",
       "      <td>2014-02-16T14:15:00-CME-001</td>\n",
       "      <td>2014-02-16T14:15:00-CME-001</td>\n",
       "      <td>2014-02-16 14:15:00+00:00</td>\n",
       "      <td>2014-02-19T03:00:00-GST-001</td>\n",
       "      <td>2 days 12:45:00</td>\n",
       "    </tr>\n",
       "    <tr>\n",
       "      <th>4</th>\n",
       "      <td>2014-02-20T03:00:00-GST-001</td>\n",
       "      <td>2014-02-20 03:00:00+00:00</td>\n",
       "      <td>2014-02-18T01:25:00-CME-001</td>\n",
       "      <td>2014-02-18T01:25:00-CME-001</td>\n",
       "      <td>2014-02-18 01:25:00+00:00</td>\n",
       "      <td>2014-02-20T03:00:00-GST-001</td>\n",
       "      <td>2 days 01:35:00</td>\n",
       "    </tr>\n",
       "  </tbody>\n",
       "</table>\n",
       "</div>"
      ],
      "text/plain": [
       "                         gstID             startTime_GST  \\\n",
       "0  2013-06-07T03:00:00-GST-001 2013-06-07 03:00:00+00:00   \n",
       "1  2013-10-02T03:00:00-GST-001 2013-10-02 03:00:00+00:00   \n",
       "2  2013-12-08T00:00:00-GST-001 2013-12-08 00:00:00+00:00   \n",
       "3  2014-02-19T03:00:00-GST-001 2014-02-19 03:00:00+00:00   \n",
       "4  2014-02-20T03:00:00-GST-001 2014-02-20 03:00:00+00:00   \n",
       "\n",
       "                CME_ActivityID                        cmeID  \\\n",
       "0  2013-06-02T20:24:00-CME-001  2013-06-02T20:24:00-CME-001   \n",
       "1  2013-09-29T22:40:00-CME-001  2013-09-29T22:40:00-CME-001   \n",
       "2  2013-12-04T23:12:00-CME-001  2013-12-04T23:12:00-CME-001   \n",
       "3  2014-02-16T14:15:00-CME-001  2014-02-16T14:15:00-CME-001   \n",
       "4  2014-02-18T01:25:00-CME-001  2014-02-18T01:25:00-CME-001   \n",
       "\n",
       "              startTime_CME               GST_ActivityID        timeDiff  \n",
       "0 2013-06-02 20:24:00+00:00  2013-06-07T03:00:00-GST-001 4 days 06:36:00  \n",
       "1 2013-09-29 22:40:00+00:00  2013-10-02T03:00:00-GST-001 2 days 04:20:00  \n",
       "2 2013-12-04 23:12:00+00:00  2013-12-08T00:00:00-GST-001 3 days 00:48:00  \n",
       "3 2014-02-16 14:15:00+00:00  2014-02-19T03:00:00-GST-001 2 days 12:45:00  \n",
       "4 2014-02-18 01:25:00+00:00  2014-02-20T03:00:00-GST-001 2 days 01:35:00  "
      ]
     },
     "execution_count": 26,
     "metadata": {},
     "output_type": "execute_result"
    }
   ],
   "source": [
    "# Compute the time diff between startTime_GST and startTime_CME by creating a new column called `timeDiff`.\n"
   ]
  },
  {
   "cell_type": "code",
   "execution_count": 27,
   "metadata": {},
   "outputs": [
    {
     "data": {
      "text/html": [
       "<div>\n",
       "<style scoped>\n",
       "    .dataframe tbody tr th:only-of-type {\n",
       "        vertical-align: middle;\n",
       "    }\n",
       "\n",
       "    .dataframe tbody tr th {\n",
       "        vertical-align: top;\n",
       "    }\n",
       "\n",
       "    .dataframe thead th {\n",
       "        text-align: right;\n",
       "    }\n",
       "</style>\n",
       "<table border=\"1\" class=\"dataframe\">\n",
       "  <thead>\n",
       "    <tr style=\"text-align: right;\">\n",
       "      <th></th>\n",
       "      <th>timeDiff</th>\n",
       "    </tr>\n",
       "  </thead>\n",
       "  <tbody>\n",
       "    <tr>\n",
       "      <th>count</th>\n",
       "      <td>67</td>\n",
       "    </tr>\n",
       "    <tr>\n",
       "      <th>mean</th>\n",
       "      <td>2 days 21:35:13.432835820</td>\n",
       "    </tr>\n",
       "    <tr>\n",
       "      <th>std</th>\n",
       "      <td>1 days 00:02:46.681279427</td>\n",
       "    </tr>\n",
       "    <tr>\n",
       "      <th>min</th>\n",
       "      <td>1 days 05:36:00</td>\n",
       "    </tr>\n",
       "    <tr>\n",
       "      <th>25%</th>\n",
       "      <td>2 days 03:12:00</td>\n",
       "    </tr>\n",
       "    <tr>\n",
       "      <th>50%</th>\n",
       "      <td>2 days 17:48:00</td>\n",
       "    </tr>\n",
       "    <tr>\n",
       "      <th>75%</th>\n",
       "      <td>3 days 12:17:00</td>\n",
       "    </tr>\n",
       "    <tr>\n",
       "      <th>max</th>\n",
       "      <td>6 days 03:00:00</td>\n",
       "    </tr>\n",
       "  </tbody>\n",
       "</table>\n",
       "</div>"
      ],
      "text/plain": [
       "                        timeDiff\n",
       "count                         67\n",
       "mean   2 days 21:35:13.432835820\n",
       "std    1 days 00:02:46.681279427\n",
       "min              1 days 05:36:00\n",
       "25%              2 days 03:12:00\n",
       "50%              2 days 17:48:00\n",
       "75%              3 days 12:17:00\n",
       "max              6 days 03:00:00"
      ]
     },
     "execution_count": 27,
     "metadata": {},
     "output_type": "execute_result"
    }
   ],
   "source": [
    "# Use describe() to compute the mean and median time \n",
    "# that it takes for a CME to cause a GST. \n"
   ]
  },
  {
   "cell_type": "markdown",
   "metadata": {},
   "source": [
    "### Exporting data in csv format"
   ]
  },
  {
   "cell_type": "code",
   "execution_count": 28,
   "metadata": {},
   "outputs": [],
   "source": [
    "# Export data to CSV without the index\n"
   ]
  }
 ],
 "metadata": {
  "kernelspec": {
   "display_name": "base",
   "language": "python",
   "name": "python3"
  },
  "language_info": {
   "codemirror_mode": {
    "name": "ipython",
    "version": 3
   },
   "file_extension": ".py",
   "mimetype": "text/x-python",
   "name": "python",
   "nbconvert_exporter": "python",
   "pygments_lexer": "ipython3",
   "version": "3.12.7"
  },
  "varInspector": {
   "cols": {
    "lenName": 16,
    "lenType": 16,
    "lenVar": 40
   },
   "kernels_config": {
    "python": {
     "delete_cmd_postfix": "",
     "delete_cmd_prefix": "del ",
     "library": "var_list.py",
     "varRefreshCmd": "print(var_dic_list())"
    },
    "r": {
     "delete_cmd_postfix": ") ",
     "delete_cmd_prefix": "rm(",
     "library": "var_list.r",
     "varRefreshCmd": "cat(var_dic_list()) "
    }
   },
   "types_to_exclude": [
    "module",
    "function",
    "builtin_function_or_method",
    "instance",
    "_Feature"
   ],
   "window_display": false
  }
 },
 "nbformat": 4,
 "nbformat_minor": 4
}
